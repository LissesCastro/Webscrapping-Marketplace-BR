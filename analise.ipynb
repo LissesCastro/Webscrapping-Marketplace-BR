{
 "cells": [
  {
   "cell_type": "code",
   "execution_count": 11,
   "metadata": {},
   "outputs": [],
   "source": [
    "import pandas as pd\n",
    "import seaborn as sns\n",
    "from collections import Counter\n",
    "from nltk.corpus import stopwords"
   ]
  },
  {
   "cell_type": "markdown",
   "metadata": {},
   "source": [
    "## Quais são os produtos mais catalogados?\n",
    "## Quais produtos tem mais unidades vendidas?\n",
    "## Qual o preço médio dos produtos?\n",
    "## Qual material é mais vendido? Qual é menos vendido?\n",
    "## O valor do desconto tem relação com o número de vendas?\n"
   ]
  },
  {
   "cell_type": "code",
   "execution_count": 12,
   "metadata": {},
   "outputs": [],
   "source": [
    "def plota_variaveis_numericas(dataframe: pd.DataFrame, conjunto: list, alvo: str, titulo: str, modo='barra', tamanho_figura = (15,30), i=0) -> None:\n",
    "    nrows = int(round(len(conjunto)/2, 0))\n",
    "    \n",
    "    if nrows < (len(conjunto)/2):\n",
    "        nrows += 1\n",
    "\n",
    "    fig, axes = plt.subplots(ncols=2, nrows=nrows, figsize=tamanho_figura, facecolor='white')\n",
    "    axes = axes.flatten()\n",
    "    fig.suptitle(titulo)\n",
    "    #fig.subplots_adjust(hspace=0.8, wspace=0.3)\n",
    "\n",
    "\n",
    "    for item in conjunto:\n",
    "        if modo == 'barra':\n",
    "            sns.barplot(x=dataframe[alvo], y=dataframe[item], ax=axes[i], color='#435058')\n",
    "            axes[i].set_title(item)\n",
    "\n",
    "        elif modo=='histograma':\n",
    "            sns.histplot(x=dataframe[item], ax=axes[i], color='#435058')\n",
    "            axes[i].axvline(x=dataframe[item].mean(), linestyle='--', color='red')\n",
    "            axes[i].axvline(x=dataframe[item].median(), linestyle='--', color='green')\n",
    "            axes[i].set_title(item + '. Média = {:.2f}, Mediana = {:.2f}'.format(dataframe[item].mean(), dataframe[item].median()))\n",
    "\n",
    "        if dataframe[item].nunique() > 6:\n",
    "            axes[i].xaxis.set_tick_params(rotation=90)\n",
    "\n",
    "        axes[i].set_ylabel('')\n",
    "        axes[i].set_xlabel('')\n",
    "        i += 1\n",
    "   \n",
    "    fig.tight_layout(pad=2)\n",
    "\n",
    "def plota_contagens(dataframe: pd.DataFrame, conjunto: list, alvo: str, titulo: str, tamanho_figura = (15,22), i=0) -> None:\n",
    "    nrows = int(round(len(conjunto)/2, 0))\n",
    "\n",
    "    if nrows < (len(conjunto)/2):\n",
    "        nrows += 1\n",
    "\n",
    "    fig, axes = plt.subplots(ncols=2, nrows=nrows, figsize=tamanho_figura, facecolor='white')\n",
    "    axes = axes.flatten()\n",
    "    fig.suptitle(titulo)\n",
    "\n",
    "    for item in conjunto:\n",
    "        sns.countplot(x=dataframe[item], ax=axes[i], palette='Paired', hue=dataframe[alvo])\n",
    "        axes[i].set_title(item)\n",
    "        axes[i].set_ylabel('')\n",
    "        axes[i].set_xlabel('')\n",
    "        i += 1\n",
    "        \n",
    "    fig.tight_layout(pad=2)\n",
    "\n",
    "\n",
    "def plota_dispersao(dataframe: pd.DataFrame, conjunto: list, var: str, titulo: str, legenda=None, tamanho_figura = (20,12), i=0) -> None:\n",
    "    nrows = int(round(len(conjunto)/2, 0))\n",
    "\n",
    "    if nrows < (len(conjunto)/2):\n",
    "        nrows += 1\n",
    "\n",
    "    fig, axes = plt.subplots(ncols=2, nrows=nrows, figsize=tamanho_figura, facecolor='white')\n",
    "    axes = axes.flatten()\n",
    "    fig.suptitle(titulo)\n",
    "\n",
    "\n",
    "    for item in conjunto:\n",
    "        if legenda is not None:\n",
    "            sns.scatterplot(x=dataframe[var], y=dataframe[item], ax=axes[i], hue=dataframe[legenda])\n",
    "        else:\n",
    "            sns.scatterplot(x=dataframe[var], y=dataframe[item], ax=axes[i])\n",
    "\n",
    "        i += 1\n",
    "    fig.tight_layout(pad=2)"
   ]
  },
  {
   "cell_type": "code",
   "execution_count": 2,
   "metadata": {},
   "outputs": [],
   "source": [
    "df = pd.read_csv('dataset_roupas_marketplacebr_limpo.csv')"
   ]
  },
  {
   "cell_type": "code",
   "execution_count": 3,
   "metadata": {},
   "outputs": [],
   "source": [
    "df.head()\n",
    "df = df.drop_duplicates()\n",
    "df = df.drop(['Unnamed: 0'], axis=1)"
   ]
  },
  {
   "cell_type": "code",
   "execution_count": 4,
   "metadata": {},
   "outputs": [],
   "source": [
    "textos = ' '.join(df['Título'])\n",
    "palavras = textos.lower().split()\n",
    "palavras = [palavra for palavra in palavras if palavra not in stopwords.words('portuguese')]\n",
    "palavras = [palavra for palavra in palavras if len(palavra) > 3]"
   ]
  },
  {
   "cell_type": "code",
   "execution_count": 5,
   "metadata": {},
   "outputs": [
    {
     "name": "stdout",
     "output_type": "stream",
     "text": [
      "[('roupa', 583), ('infantil', 402), ('calça', 396), ('jeans', 333), ('short', 271), ('feminina', 250), ('masculina', 247), ('conjunto', 231), ('feminino', 223), ('bermuda', 207), ('roupas', 190), ('alta', 189), ('cintura', 187), ('plus', 165), ('size', 163), ('bebê', 154), ('shorts', 152), ('lycra', 149), ('academia', 142), ('algodão', 135), ('cuecas', 125), ('masculino', 124), ('atacado', 122), ('menino', 116), ('boxer', 105), ('menina', 105), ('peças', 102), ('lupo', 92), ('ballet', 88), ('body', 82), ('saia', 81), ('moda', 81), ('fitness', 80), ('bumbum', 76), ('original', 67), ('moletom', 67), ('blusa', 66), ('praia', 62), ('tactel', 61), ('costura', 59), ('térmica', 59), ('verão', 59), ('juvenil', 57), ('bermudas', 53), ('premium', 52), ('manga', 52), ('adulto', 52), ('uniforme', 50), ('estampado', 50), ('proteção', 50), ('femininas', 50), ('elastano', 49), ('bebe', 49), ('jogger', 48), ('levanta', 48), ('segunda', 44), ('pele', 44), ('macacão', 44), ('apicultor', 43), ('azul', 42), ('preto', 42), ('legging', 42), ('sarja', 41), ('collant', 41), ('skinny', 40), ('promoção', 40), ('frio', 40), ('camiseta', 39), ('meia', 38), ('calças', 37), ('festa', 36), ('treino', 35), ('bolso', 35), ('conjuntos', 35), ('microfibra', 34), ('balé', 34), ('preta', 33), ('liso', 33), ('cueca', 32), ('slim', 32), ('mala', 32), ('completa', 32), ('social', 31), ('umbanda', 31), ('cotton', 30), ('cinto', 30), ('organizador', 30), ('viagem', 30), ('tapa', 30), ('alto', 30), ('bolsos', 29), ('inverno', 29), ('corrida', 28), ('branca', 28), ('pijama', 27), ('curta', 27), ('barra', 27), ('rosa', 27), ('curto', 26), ('100%', 26)]\n"
     ]
    }
   ],
   "source": [
    "word_count = Counter(palavras)\n",
    "\n",
    "print(word_count.most_common(100))"
   ]
  },
  {
   "cell_type": "code",
   "execution_count": 6,
   "metadata": {},
   "outputs": [],
   "source": [
    "pecas = ['calça', 'short', 'conjunto', 'bermuda', 'shorts', 'cuecas', 'ballet', 'body', 'saia', 'blusa', 'bermudas', 'uniforme', 'macacão',\n",
    "         'cueca', 'camiseta', 'meia', 'calças', 'conjuntos', 'mala', 'cinto', 'pijama', 'camisa', 'boné']"
   ]
  },
  {
   "cell_type": "code",
   "execution_count": 7,
   "metadata": {},
   "outputs": [],
   "source": [
    "def tipifica_roupa(linha):\n",
    "    for item in pecas:\n",
    "        if item in linha:\n",
    "            return item\n",
    "    \n",
    "    return 'outros'"
   ]
  },
  {
   "cell_type": "code",
   "execution_count": 8,
   "metadata": {},
   "outputs": [],
   "source": [
    "df['Título'] = df['Título'].apply(lambda x: x.lower())\n",
    "df['tipo_roupa'] = df['Título'].apply(tipifica_roupa)"
   ]
  },
  {
   "cell_type": "code",
   "execution_count": 9,
   "metadata": {},
   "outputs": [
    {
     "data": {
      "text/plain": [
       "<AxesSubplot: title={'center': 'Tipos de produtos vendidos'}, xlabel='tipo_roupa'>"
      ]
     },
     "execution_count": 9,
     "metadata": {},
     "output_type": "execute_result"
    },
    {
     "data": {
      "image/png": "[encoded data removed]",
      "text/plain": [
       "<Figure size 1000x500 with 1 Axes>"
      ]
     },
     "metadata": {},
     "output_type": "display_data"
    }
   ],
   "source": [
    "df['tipo_roupa'].value_counts().plot(kind='bar', color='gray', figsize=(10, 5), title='Tipos de produtos vendidos')"
   ]
  }
 ],
 "metadata": {
  "kernelspec": {
   "display_name": "Python 3",
   "language": "python",
   "name": "python3"
  },
  "language_info": {
   "codemirror_mode": {
    "name": "ipython",
    "version": 3
   },
   "file_extension": ".py",
   "mimetype": "text/x-python",
   "name": "python",
   "nbconvert_exporter": "python",
   "pygments_lexer": "ipython3",
   "version": "3.10.11"
  },
  "orig_nbformat": 4
 },
 "nbformat": 4,
 "nbformat_minor": 2
}

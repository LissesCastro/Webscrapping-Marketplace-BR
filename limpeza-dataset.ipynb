{
 "cells": [
  {
   "cell_type": "markdown",
   "metadata": {},
   "source": [
    "## 0. Pré-Processamento"
   ]
  },
  {
   "cell_type": "markdown",
   "metadata": {},
   "source": [
    "### 0.1 Importando a(s) biblioteca(s) e o dataset"
   ]
  },
  {
   "cell_type": "code",
   "execution_count": 1,
   "metadata": {},
   "outputs": [],
   "source": [
    "import pandas as pd"
   ]
  },
  {
   "cell_type": "code",
   "execution_count": 2,
   "metadata": {},
   "outputs": [],
   "source": [
    "df = pd.read_csv('scrapping_roupas_marketplace.csv')"
   ]
  },
  {
   "cell_type": "markdown",
   "metadata": {},
   "source": [
    "## 1. Limpeza da base"
   ]
  },
  {
   "cell_type": "code",
   "execution_count": 4,
   "metadata": {},
   "outputs": [],
   "source": [
    "#Removendo a coluna indesejada\n",
    "df = df.drop('Unnamed: 0', axis=1)"
   ]
  },
  {
   "cell_type": "markdown",
   "metadata": {},
   "source": [
    "### 1.1 Tratando os nulos"
   ]
  },
  {
   "cell_type": "markdown",
   "metadata": {},
   "source": [
    "Os nulos na categoria de nota não foram tratados e o trabalho para ajuste deve ficar a cargo de quem trabalhar com a base."
   ]
  },
  {
   "cell_type": "code",
   "execution_count": 5,
   "metadata": {},
   "outputs": [
    {
     "data": {
      "text/plain": [
       "Título             0\n",
       "Reais              0\n",
       "Centavos         243\n",
       "Condição           0\n",
       "Nota             648\n",
       "N_Avaliações     648\n",
       "Desconto        1333\n",
       "Marca             23\n",
       "Material         875\n",
       "Gênero            87\n",
       "Temporada       1072\n",
       "Review1          692\n",
       "Review2          853\n",
       "Review3          974\n",
       "dtype: int64"
      ]
     },
     "execution_count": 5,
     "metadata": {},
     "output_type": "execute_result"
    }
   ],
   "source": [
    "df.isna().sum()"
   ]
  },
  {
   "cell_type": "code",
   "execution_count": 6,
   "metadata": {},
   "outputs": [],
   "source": [
    "df[['Centavos', 'N_Avaliações', 'Desconto']] = df[['Centavos', 'N_Avaliações', 'Desconto']].fillna(0)\n",
    "df[['Marca', 'Material', 'Gênero', 'Temporada', 'Review1', 'Review2', 'Review3']] =df[['Marca', 'Material', 'Gênero', 'Temporada', 'Review1', 'Review2', 'Review3']].fillna('N/A')"
   ]
  },
  {
   "cell_type": "code",
   "execution_count": 7,
   "metadata": {},
   "outputs": [],
   "source": [
    "df[['Reais', 'Centavos']] = df[['Reais', 'Centavos']].astype(int).astype(str)\n",
    "df['Preco'] = (df['Reais'] + '.' + df['Centavos']).astype(float)"
   ]
  },
  {
   "cell_type": "code",
   "execution_count": 8,
   "metadata": {},
   "outputs": [],
   "source": [
    "df = df.drop(['Reais', 'Centavos'], axis=1)"
   ]
  },
  {
   "cell_type": "markdown",
   "metadata": {},
   "source": [
    "### 1.1 Arrumando colunas"
   ]
  },
  {
   "cell_type": "code",
   "execution_count": 9,
   "metadata": {},
   "outputs": [],
   "source": [
    "#Ajeitando as colunas do número de avaliações, tirando os ()\n",
    "df['N_Avaliações'] = df['N_Avaliações'].apply(lambda x: int(x) if x == 0 else int(x[1:-1]))"
   ]
  },
  {
   "cell_type": "code",
   "execution_count": 10,
   "metadata": {},
   "outputs": [],
   "source": [
    "#Arrumando as colunas de desconto, transformando em número\n",
    "df['Desconto'] = df['Desconto'].apply(lambda x: int(str(x).replace('% OFF', ''))/100)"
   ]
  },
  {
   "cell_type": "code",
   "execution_count": 12,
   "metadata": {},
   "outputs": [],
   "source": [
    "#Utilizando a coluna de \"Condição\" para identificar o número de itens vendidos em cada anúncio\n",
    "dic_condicoes = {'Novo': 0, \n",
    "                 '1 vendido': 1,\n",
    "                 '2': 2,\n",
    "                 '3': 3,\n",
    "                 '4': 4,\n",
    "                 '+5': 5,\n",
    "                 '+25': 25,\n",
    "                 '+50': 50,\n",
    "                 '+100': 100,\n",
    "                 '+500': 500,\n",
    "                 '+1000': 1000,\n",
    "                 '+5mil': 5000,\n",
    "                 '+10mil': 10000,\n",
    "                 '+50mil': 50000,\n",
    "                 }\n",
    "\n",
    "df['Condição'] = df['Condição'].apply(lambda x: x.replace('Novo  |  ', ''))\n",
    "df['Condição'] = df['Condição'].apply(lambda x: x.replace(' vendidos', ''))\n",
    "\n",
    "df['n_vendidos_categoria'] = df['Condição'].replace(dic_condicoes)"
   ]
  },
  {
   "cell_type": "code",
   "execution_count": 13,
   "metadata": {},
   "outputs": [],
   "source": [
    "df = df.drop('Condição', axis=1)"
   ]
  },
  {
   "cell_type": "markdown",
   "metadata": {},
   "source": [
    "## 2. Salvando a base"
   ]
  },
  {
   "cell_type": "code",
   "execution_count": 15,
   "metadata": {},
   "outputs": [],
   "source": [
    "df.to_csv('dataset_roupas_marketplacebr_limpo.csv')"
   ]
  }
 ],
 "metadata": {
  "kernelspec": {
   "display_name": "Python 3",
   "language": "python",
   "name": "python3"
  },
  "language_info": {
   "codemirror_mode": {
    "name": "ipython",
    "version": 3
   },
   "file_extension": ".py",
   "mimetype": "text/x-python",
   "name": "python",
   "nbconvert_exporter": "python",
   "pygments_lexer": "ipython3",
   "version": "3.10.11"
  },
  "orig_nbformat": 4
 },
 "nbformat": 4,
 "nbformat_minor": 2
}

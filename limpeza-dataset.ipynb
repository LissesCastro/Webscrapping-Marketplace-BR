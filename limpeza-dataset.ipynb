{
 "cells": [
  {
   "cell_type": "markdown",
   "metadata": {},
   "source": [
    "## 0. Pré-Processamento"
   ]
  },
  {
   "cell_type": "markdown",
   "metadata": {},
   "source": [
    "### 0.1 Importando a(s) biblioteca(s) e o dataset"
   ]
  },
  {
   "cell_type": "code",
   "execution_count": 1,
   "metadata": {},
   "outputs": [],
   "source": [
    "import pandas as pd"
   ]
  },
  {
   "cell_type": "code",
   "execution_count": 2,
   "metadata": {},
   "outputs": [],
   "source": [
    "df = pd.read_csv('scrapping_roupas_marketplace.csv')"
   ]
  },
  {
   "cell_type": "markdown",
   "metadata": {},
   "source": [
    "## 1. Limpeza da base"
   ]
  },
  {
   "cell_type": "code",
   "execution_count": 3,
   "metadata": {},
   "outputs": [],
   "source": [
    "#Removendo a coluna indesejada\n",
    "df = df.drop('Unnamed: 0', axis=1)"
   ]
  },
  {
   "cell_type": "markdown",
   "metadata": {},
   "source": [
    "### 1.1 Tratando os nulos"
   ]
  },
  {
   "cell_type": "markdown",
   "metadata": {},
   "source": [
    "Os nulos na categoria de nota não foram tratados e o trabalho para ajuste deve ficar a cargo de quem trabalhar com a base."
   ]
  },
  {
   "cell_type": "code",
   "execution_count": 4,
   "metadata": {},
   "outputs": [
    {
     "data": {
      "text/plain": [
       "Título             0\n",
       "Reais              0\n",
       "Centavos         243\n",
       "Condição           0\n",
       "Nota             648\n",
       "N_Avaliações     648\n",
       "Desconto        1333\n",
       "Marca             23\n",
       "Material         875\n",
       "Gênero            87\n",
       "Temporada       1072\n",
       "Review1          692\n",
       "Review2          853\n",
       "Review3          974\n",
       "dtype: int64"
      ]
     },
     "execution_count": 4,
     "metadata": {},
     "output_type": "execute_result"
    }
   ],
   "source": [
    "df.isna().sum()"
   ]
  },
  {
   "cell_type": "code",
   "execution_count": 5,
   "metadata": {},
   "outputs": [],
   "source": [
    "df[['Centavos', 'N_Avaliações', 'Desconto']] = df[['Centavos', 'N_Avaliações', 'Desconto']].fillna(0)\n",
    "df[['Marca', 'Material', 'Gênero', 'Temporada', 'Review1', 'Review2', 'Review3']] =df[['Marca', 'Material', 'Gênero', 'Temporada', 'Review1', 'Review2', 'Review3']].fillna('N/A')"
   ]
  },
  {
   "cell_type": "code",
   "execution_count": 6,
   "metadata": {},
   "outputs": [],
   "source": [
    "df[['Reais', 'Centavos']] = df[['Reais', 'Centavos']].astype(int).astype(str)\n",
    "df['Preco'] = (df['Reais'] + '.' + df['Centavos']).astype(float)"
   ]
  },
  {
   "cell_type": "code",
   "execution_count": 7,
   "metadata": {},
   "outputs": [],
   "source": [
    "df = df.drop(['Reais', 'Centavos'], axis=1)"
   ]
  },
  {
   "cell_type": "markdown",
   "metadata": {},
   "source": [
    "### 1.1 Arrumando colunas"
   ]
  },
  {
   "cell_type": "code",
   "execution_count": 8,
   "metadata": {},
   "outputs": [],
   "source": [
    "#Ajeitando as colunas do número de avaliações, tirando os ()\n",
    "df['N_Avaliações'] = df['N_Avaliações'].apply(lambda x: int(x) if x == 0 else int(x[1:-1]))"
   ]
  },
  {
   "cell_type": "code",
   "execution_count": 9,
   "metadata": {},
   "outputs": [],
   "source": [
    "#Arrumando as colunas de desconto, transformando em número\n",
    "df['Desconto'] = df['Desconto'].apply(lambda x: int(str(x).replace('% OFF', ''))/100)"
   ]
  },
  {
   "cell_type": "code",
   "execution_count": 10,
   "metadata": {},
   "outputs": [],
   "source": [
    "#Utilizando a coluna de \"Condição\" para identificar o número de itens vendidos em cada anúncio\n",
    "dic_condicoes = {'Novo': 0, \n",
    "                 '1 vendido': 1,\n",
    "                 '2': 2,\n",
    "                 '3': 3,\n",
    "                 '4': 4,\n",
    "                 '+5': 5,\n",
    "                 '+25': 25,\n",
    "                 '+50': 50,\n",
    "                 '+100': 100,\n",
    "                 '+500': 500,\n",
    "                 '+1000': 1000,\n",
    "                 '+5mil': 5000,\n",
    "                 '+10mil': 10000,\n",
    "                 '+50mil': 50000,\n",
    "                 }\n",
    "\n",
    "df['Condição'] = df['Condição'].apply(lambda x: x.replace('Novo  |  ', ''))\n",
    "df['Condição'] = df['Condição'].apply(lambda x: x.replace(' vendidos', ''))\n",
    "\n",
    "df['n_vendidos_categoria'] = df['Condição'].replace(dic_condicoes)"
   ]
  },
  {
   "cell_type": "code",
   "execution_count": 11,
   "metadata": {},
   "outputs": [],
   "source": [
    "df = df.drop('Condição', axis=1)"
   ]
  },
  {
   "cell_type": "code",
   "execution_count": 12,
   "metadata": {},
   "outputs": [],
   "source": [
    "#Criando uma coluna com o preço original do item, antes do desconto\n",
    "df['Preco_original'] = round(df['Preco']*(df['Desconto']+1), 2)"
   ]
  },
  {
   "cell_type": "code",
   "execution_count": 13,
   "metadata": {},
   "outputs": [],
   "source": [
    "#Reordenando as colunas do dataframe\n",
    "df = df[['Título', 'Preco_original', 'Desconto', 'Preco', 'n_vendidos_categoria',  'Marca', 'Material', 'Gênero', 'Temporada', 'Nota', 'N_Avaliações', 'Review1', 'Review2', 'Review3']]"
   ]
  },
  {
   "cell_type": "code",
   "execution_count": 14,
   "metadata": {},
   "outputs": [],
   "source": [
    "#Renomeando algumas colunas para melhor entendimento\n",
    "df = df.rename(columns={'Preco':'Preco_com_desconto', 'Desconto':'Desconto_percentual'})"
   ]
  },
  {
   "cell_type": "code",
   "execution_count": 15,
   "metadata": {},
   "outputs": [
    {
     "data": {
      "text/html": [
       "<div>\n",
       "<style scoped>\n",
       "    .dataframe tbody tr th:only-of-type {\n",
       "        vertical-align: middle;\n",
       "    }\n",
       "\n",
       "    .dataframe tbody tr th {\n",
       "        vertical-align: top;\n",
       "    }\n",
       "\n",
       "    .dataframe thead th {\n",
       "        text-align: right;\n",
       "    }\n",
       "</style>\n",
       "<table border=\"1\" class=\"dataframe\">\n",
       "  <thead>\n",
       "    <tr style=\"text-align: right;\">\n",
       "      <th></th>\n",
       "      <th>Título</th>\n",
       "      <th>Preco_original</th>\n",
       "      <th>Desconto_percentual</th>\n",
       "      <th>Preco_com_desconto</th>\n",
       "      <th>n_vendidos_categoria</th>\n",
       "      <th>Marca</th>\n",
       "      <th>Material</th>\n",
       "      <th>Gênero</th>\n",
       "      <th>Temporada</th>\n",
       "      <th>Nota</th>\n",
       "      <th>N_Avaliações</th>\n",
       "      <th>Review1</th>\n",
       "      <th>Review2</th>\n",
       "      <th>Review3</th>\n",
       "    </tr>\n",
       "  </thead>\n",
       "  <tbody>\n",
       "    <tr>\n",
       "      <th>0</th>\n",
       "      <td>Pijama Cirurgico  Scrub Roupa Privativa Hospit...</td>\n",
       "      <td>69.90</td>\n",
       "      <td>0.00</td>\n",
       "      <td>69.90</td>\n",
       "      <td>1000</td>\n",
       "      <td>TORONTO UNIFORMES PROFISSIONAIS</td>\n",
       "      <td>Poliéster</td>\n",
       "      <td>Sem gênero</td>\n",
       "      <td>N/A</td>\n",
       "      <td>4.0</td>\n",
       "      <td>273</td>\n",
       "      <td>Preço justo , bem feito acabamento ok. Única s...</td>\n",
       "      <td>Tamanho bom, costuras de qualidade, porém teci...</td>\n",
       "      <td>Muito bom, só poderia ter os cortes na lateral...</td>\n",
       "    </tr>\n",
       "    <tr>\n",
       "      <th>1</th>\n",
       "      <td>Kit 10 Cuecas Boxer Lupo Cueca Box Algodão Mas...</td>\n",
       "      <td>274.81</td>\n",
       "      <td>0.18</td>\n",
       "      <td>232.89</td>\n",
       "      <td>10000</td>\n",
       "      <td>Lupo</td>\n",
       "      <td>Algodão</td>\n",
       "      <td>Masculino</td>\n",
       "      <td>Outono/Inverno</td>\n",
       "      <td>4.5</td>\n",
       "      <td>3034</td>\n",
       "      <td>As cuecas são boas; porém você percebe na cost...</td>\n",
       "      <td>Pelo preço promocional, com ctz tem algum defe...</td>\n",
       "      <td>Serviram muito bem, porém é nítido que o pano ...</td>\n",
       "    </tr>\n",
       "    <tr>\n",
       "      <th>2</th>\n",
       "      <td>Kit Com 10 Cuecas Boxer Algodão Sem Costura Zo...</td>\n",
       "      <td>239.88</td>\n",
       "      <td>0.20</td>\n",
       "      <td>199.90</td>\n",
       "      <td>50000</td>\n",
       "      <td>Zorba</td>\n",
       "      <td>Algodão</td>\n",
       "      <td>Masculino</td>\n",
       "      <td>N/A</td>\n",
       "      <td>4.7</td>\n",
       "      <td>5682</td>\n",
       "      <td>O tecido é bom e são confortáveis. Só que a nu...</td>\n",
       "      <td>Vendo comentários de outros consumidores vejo ...</td>\n",
       "      <td>Produto não é nem de longe original, tecido gr...</td>\n",
       "    </tr>\n",
       "    <tr>\n",
       "      <th>3</th>\n",
       "      <td>Kit 10 Cuecas Boxer Mash Algodão Cotton Box Or...</td>\n",
       "      <td>279.86</td>\n",
       "      <td>0.22</td>\n",
       "      <td>229.39</td>\n",
       "      <td>10000</td>\n",
       "      <td>Mash</td>\n",
       "      <td>Algodão</td>\n",
       "      <td>Masculino</td>\n",
       "      <td>Primavera/Verão</td>\n",
       "      <td>4.6</td>\n",
       "      <td>1700</td>\n",
       "      <td>As cuecas são boas, porém meu marido usa g e p...</td>\n",
       "      <td>E o tamanho certo, mas em baixo dela, fica mui...</td>\n",
       "      <td>Produto não parece.\\nOriginal e veio 2 modelos...</td>\n",
       "    </tr>\n",
       "    <tr>\n",
       "      <th>4</th>\n",
       "      <td>Kit 3 Short Jeans Feminino Cintura Alta Barato...</td>\n",
       "      <td>140.83</td>\n",
       "      <td>0.09</td>\n",
       "      <td>129.20</td>\n",
       "      <td>1000</td>\n",
       "      <td>Menina Linda</td>\n",
       "      <td>Jean</td>\n",
       "      <td>Feminino</td>\n",
       "      <td>Primavera/Verão</td>\n",
       "      <td>4.4</td>\n",
       "      <td>507</td>\n",
       "      <td>Estou encantada com essas peças!.\\nOs shorts s...</td>\n",
       "      <td>Recomendo, tecido confortável, igual a foto.</td>\n",
       "      <td>Gostei muito dos shorts, material bom, para us...</td>\n",
       "    </tr>\n",
       "    <tr>\n",
       "      <th>...</th>\n",
       "      <td>...</td>\n",
       "      <td>...</td>\n",
       "      <td>...</td>\n",
       "      <td>...</td>\n",
       "      <td>...</td>\n",
       "      <td>...</td>\n",
       "      <td>...</td>\n",
       "      <td>...</td>\n",
       "      <td>...</td>\n",
       "      <td>...</td>\n",
       "      <td>...</td>\n",
       "      <td>...</td>\n",
       "      <td>...</td>\n",
       "      <td>...</td>\n",
       "    </tr>\n",
       "    <tr>\n",
       "      <th>2202</th>\n",
       "      <td>Bermuda Masculina Tática Thunder Poly Ripstop ...</td>\n",
       "      <td>131.78</td>\n",
       "      <td>0.10</td>\n",
       "      <td>119.80</td>\n",
       "      <td>5</td>\n",
       "      <td>Use Tático</td>\n",
       "      <td>Poliéster</td>\n",
       "      <td>Masculino</td>\n",
       "      <td>Primavera/Verão</td>\n",
       "      <td>4.3</td>\n",
       "      <td>3</td>\n",
       "      <td>Muito bom produto gostei muito.</td>\n",
       "      <td>Tá ótimo recomendo a todos.</td>\n",
       "      <td>N/A</td>\n",
       "    </tr>\n",
       "    <tr>\n",
       "      <th>2203</th>\n",
       "      <td>Camiseta Preta Juvenil Infantil Menina Menino ...</td>\n",
       "      <td>23.16</td>\n",
       "      <td>0.13</td>\n",
       "      <td>20.50</td>\n",
       "      <td>25</td>\n",
       "      <td>DestaQ</td>\n",
       "      <td>Algodão</td>\n",
       "      <td>Sem gênero infantil</td>\n",
       "      <td>N/A</td>\n",
       "      <td>NaN</td>\n",
       "      <td>0</td>\n",
       "      <td>N/A</td>\n",
       "      <td>N/A</td>\n",
       "      <td>N/A</td>\n",
       "    </tr>\n",
       "    <tr>\n",
       "      <th>2204</th>\n",
       "      <td>Blusa Personalizada Jaqueta Com Sua Marca Logo...</td>\n",
       "      <td>93.99</td>\n",
       "      <td>0.00</td>\n",
       "      <td>93.99</td>\n",
       "      <td>1</td>\n",
       "      <td>Inoffensive</td>\n",
       "      <td>N/A</td>\n",
       "      <td>Feminino</td>\n",
       "      <td>N/A</td>\n",
       "      <td>NaN</td>\n",
       "      <td>0</td>\n",
       "      <td>N/A</td>\n",
       "      <td>N/A</td>\n",
       "      <td>N/A</td>\n",
       "    </tr>\n",
       "    <tr>\n",
       "      <th>2205</th>\n",
       "      <td>Roupa Infantil Social Menino - Bebê Batizado F...</td>\n",
       "      <td>97.30</td>\n",
       "      <td>0.00</td>\n",
       "      <td>97.30</td>\n",
       "      <td>50</td>\n",
       "      <td>Balão Magico Kids</td>\n",
       "      <td>N/A</td>\n",
       "      <td>Bebês</td>\n",
       "      <td>N/A</td>\n",
       "      <td>4.7</td>\n",
       "      <td>14</td>\n",
       "      <td>O roupa em si é linda, só a camisa que o tecid...</td>\n",
       "      <td>Amei.</td>\n",
       "      <td>Ficou perfeito no meu filho.</td>\n",
       "    </tr>\n",
       "    <tr>\n",
       "      <th>2206</th>\n",
       "      <td>Kit -06 Shortinhos Micro Colado Para Usar Com ...</td>\n",
       "      <td>103.87</td>\n",
       "      <td>0.00</td>\n",
       "      <td>103.87</td>\n",
       "      <td>5</td>\n",
       "      <td>Madasi</td>\n",
       "      <td>Viscolycra</td>\n",
       "      <td>Feminino</td>\n",
       "      <td>Primavera/Verão</td>\n",
       "      <td>NaN</td>\n",
       "      <td>0</td>\n",
       "      <td>N/A</td>\n",
       "      <td>N/A</td>\n",
       "      <td>N/A</td>\n",
       "    </tr>\n",
       "  </tbody>\n",
       "</table>\n",
       "<p>2207 rows × 14 columns</p>\n",
       "</div>"
      ],
      "text/plain": [
       "                                                 Título  Preco_original  \\\n",
       "0     Pijama Cirurgico  Scrub Roupa Privativa Hospit...           69.90   \n",
       "1     Kit 10 Cuecas Boxer Lupo Cueca Box Algodão Mas...          274.81   \n",
       "2     Kit Com 10 Cuecas Boxer Algodão Sem Costura Zo...          239.88   \n",
       "3     Kit 10 Cuecas Boxer Mash Algodão Cotton Box Or...          279.86   \n",
       "4     Kit 3 Short Jeans Feminino Cintura Alta Barato...          140.83   \n",
       "...                                                 ...             ...   \n",
       "2202  Bermuda Masculina Tática Thunder Poly Ripstop ...          131.78   \n",
       "2203  Camiseta Preta Juvenil Infantil Menina Menino ...           23.16   \n",
       "2204  Blusa Personalizada Jaqueta Com Sua Marca Logo...           93.99   \n",
       "2205  Roupa Infantil Social Menino - Bebê Batizado F...           97.30   \n",
       "2206  Kit -06 Shortinhos Micro Colado Para Usar Com ...          103.87   \n",
       "\n",
       "      Desconto_percentual  Preco_com_desconto  n_vendidos_categoria  \\\n",
       "0                    0.00               69.90                  1000   \n",
       "1                    0.18              232.89                 10000   \n",
       "2                    0.20              199.90                 50000   \n",
       "3                    0.22              229.39                 10000   \n",
       "4                    0.09              129.20                  1000   \n",
       "...                   ...                 ...                   ...   \n",
       "2202                 0.10              119.80                     5   \n",
       "2203                 0.13               20.50                    25   \n",
       "2204                 0.00               93.99                     1   \n",
       "2205                 0.00               97.30                    50   \n",
       "2206                 0.00              103.87                     5   \n",
       "\n",
       "                                Marca    Material               Gênero  \\\n",
       "0     TORONTO UNIFORMES PROFISSIONAIS   Poliéster           Sem gênero   \n",
       "1                                Lupo     Algodão            Masculino   \n",
       "2                               Zorba     Algodão            Masculino   \n",
       "3                                Mash     Algodão            Masculino   \n",
       "4                        Menina Linda        Jean             Feminino   \n",
       "...                               ...         ...                  ...   \n",
       "2202                       Use Tático   Poliéster            Masculino   \n",
       "2203                           DestaQ     Algodão  Sem gênero infantil   \n",
       "2204                      Inoffensive         N/A             Feminino   \n",
       "2205                Balão Magico Kids         N/A                Bebês   \n",
       "2206                           Madasi  Viscolycra             Feminino   \n",
       "\n",
       "            Temporada  Nota  N_Avaliações  \\\n",
       "0                 N/A   4.0           273   \n",
       "1      Outono/Inverno   4.5          3034   \n",
       "2                 N/A   4.7          5682   \n",
       "3     Primavera/Verão   4.6          1700   \n",
       "4     Primavera/Verão   4.4           507   \n",
       "...               ...   ...           ...   \n",
       "2202  Primavera/Verão   4.3             3   \n",
       "2203              N/A   NaN             0   \n",
       "2204              N/A   NaN             0   \n",
       "2205              N/A   4.7            14   \n",
       "2206  Primavera/Verão   NaN             0   \n",
       "\n",
       "                                                Review1  \\\n",
       "0     Preço justo , bem feito acabamento ok. Única s...   \n",
       "1     As cuecas são boas; porém você percebe na cost...   \n",
       "2     O tecido é bom e são confortáveis. Só que a nu...   \n",
       "3     As cuecas são boas, porém meu marido usa g e p...   \n",
       "4     Estou encantada com essas peças!.\\nOs shorts s...   \n",
       "...                                                 ...   \n",
       "2202                    Muito bom produto gostei muito.   \n",
       "2203                                                N/A   \n",
       "2204                                                N/A   \n",
       "2205  O roupa em si é linda, só a camisa que o tecid...   \n",
       "2206                                                N/A   \n",
       "\n",
       "                                                Review2  \\\n",
       "0     Tamanho bom, costuras de qualidade, porém teci...   \n",
       "1     Pelo preço promocional, com ctz tem algum defe...   \n",
       "2     Vendo comentários de outros consumidores vejo ...   \n",
       "3     E o tamanho certo, mas em baixo dela, fica mui...   \n",
       "4          Recomendo, tecido confortável, igual a foto.   \n",
       "...                                                 ...   \n",
       "2202                        Tá ótimo recomendo a todos.   \n",
       "2203                                                N/A   \n",
       "2204                                                N/A   \n",
       "2205                                              Amei.   \n",
       "2206                                                N/A   \n",
       "\n",
       "                                                Review3  \n",
       "0     Muito bom, só poderia ter os cortes na lateral...  \n",
       "1     Serviram muito bem, porém é nítido que o pano ...  \n",
       "2     Produto não é nem de longe original, tecido gr...  \n",
       "3     Produto não parece.\\nOriginal e veio 2 modelos...  \n",
       "4     Gostei muito dos shorts, material bom, para us...  \n",
       "...                                                 ...  \n",
       "2202                                                N/A  \n",
       "2203                                                N/A  \n",
       "2204                                                N/A  \n",
       "2205                       Ficou perfeito no meu filho.  \n",
       "2206                                                N/A  \n",
       "\n",
       "[2207 rows x 14 columns]"
      ]
     },
     "execution_count": 15,
     "metadata": {},
     "output_type": "execute_result"
    }
   ],
   "source": [
    "df"
   ]
  },
  {
   "cell_type": "markdown",
   "metadata": {},
   "source": [
    "## 2. Salvando a base"
   ]
  },
  {
   "cell_type": "code",
   "execution_count": 16,
   "metadata": {},
   "outputs": [],
   "source": [
    "df.to_csv('dataset_roupas_marketplacebr_limpo.csv')"
   ]
  }
 ],
 "metadata": {
  "kernelspec": {
   "display_name": "Python 3",
   "language": "python",
   "name": "python3"
  },
  "language_info": {
   "codemirror_mode": {
    "name": "ipython",
    "version": 3
   },
   "file_extension": ".py",
   "mimetype": "text/x-python",
   "name": "python",
   "nbconvert_exporter": "python",
   "pygments_lexer": "ipython3",
   "version": "3.10.11"
  },
  "orig_nbformat": 4
 },
 "nbformat": 4,
 "nbformat_minor": 2
}

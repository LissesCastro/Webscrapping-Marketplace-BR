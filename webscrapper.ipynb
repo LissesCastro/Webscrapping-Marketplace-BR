{
 "cells": [
  {
   "cell_type": "markdown",
   "metadata": {},
   "source": [
    "Esse código explora o processo de webscrapping na seção de roupas do maior marketplace do Brasil. Por questões de segurança, o nome do site não será divulgado. O dataset resultante do código está disponível na versão crua [aqui](scrapping_roupas_marketplace.csv) e na versão ajustada [aqui](dataset_roupas_marketplacebr_limpo.csv). Também está disponível no kaggle."
   ]
  },
  {
   "cell_type": "markdown",
   "metadata": {},
   "source": [
    "## 0. Pré-processamento"
   ]
  },
  {
   "cell_type": "code",
   "execution_count": 1,
   "metadata": {},
   "outputs": [],
   "source": [
    "#BeautifulSoup e requests para a conexão com o site e scrapping da página, selenium para a simulação do navegador\n",
    "\n",
    "from bs4 import BeautifulSoup\n",
    "import requests\n",
    "import pandas as pd\n",
    "from selenium import webdriver\n",
    "import time"
   ]
  },
  {
   "cell_type": "code",
   "execution_count": null,
   "metadata": {},
   "outputs": [],
   "source": [
    "def insere_dados_basicos(elementos, soup):\n",
    "    '''Encontra os dados básicos das roupas no marketplace. Como\n",
    "        esses elementos são facilmente selecionáveis, não é necessária\n",
    "        nenhuma ação além da indicação dos próprios elementos'''\n",
    "    lista = []\n",
    "    for item in elementos:\n",
    "        try:\n",
    "            elemento = soup.find(item['name'], class_=item['class']).get_text().strip()\n",
    "            lista.append(elemento)\n",
    "        except:\n",
    "            lista.append(None)\n",
    "        \n",
    "    return lista\n",
    "\n",
    "def insere_elementos_tabela(lista_de_textos, soup):\n",
    "    '''Encontra elementos dentro de uma categorização do tipo\n",
    "        tabela dentro do site. Procura pelo rótulo de classificação\n",
    "        (por exemplo, \"Marca:\"), e seleciona o elemento seguinte\n",
    "        (por exemplo, o nome da marca)'''\n",
    "    \n",
    "    lista = []\n",
    "\n",
    "    for elemento in lista_de_textos:\n",
    "        elemento = soup.find('span', text=elemento)\n",
    "        \n",
    "        if elemento:\n",
    "            elemento = elemento.find_next_sibling('span').text.strip()\n",
    "        else:\n",
    "            elemento = \"N/A\"\n",
    "\n",
    "        lista.append(elemento)\n",
    "    return lista\n",
    "\n",
    "def insere_reviews(elemento_nome, elemento_classe, soup):\n",
    "    '''Circula pelo elemento de reviews da página e seleciona\n",
    "    cada uma delas, adiciona em uma lista de reviews e devolve a lista'''\n",
    "    lista_reviews = []\n",
    "    reviews = soup.find_all(name=elemento_nome, class_=elemento_classe)\n",
    "    for review in reviews:\n",
    "        lista_reviews.append(review.get_text().strip())\n",
    "        \n",
    "    return lista_reviews"
   ]
  },
  {
   "cell_type": "code",
   "execution_count": 2,
   "metadata": {},
   "outputs": [],
   "source": [
    "#Ligando o navegador web que vai passar por cada página e obter as informações do scrapping\n",
    "driver = webdriver.Edge()"
   ]
  },
  {
   "cell_type": "code",
   "execution_count": 3,
   "metadata": {},
   "outputs": [],
   "source": [
    "# Essa lista indica os valores de index que marcam as passagens de página do site. É algo bem específico do site, onde são 48 itens por página. Assim, o item 49 é a página 2\n",
    "# O item 49+48 a página 3, e assim por diante. Como são 42 páginas, a lista soma o número 48 por 42 vezes.\n",
    "start_value = 49\n",
    "step = 48\n",
    "n = 42  # Number of times to add the step\n",
    "\n",
    "range_index = [start_value + i * step for i in range(n)]\n"
   ]
  },
  {
   "cell_type": "markdown",
   "metadata": {},
   "source": [
    "## 1. Adquirindo a lista de URLs para o scrapping"
   ]
  },
  {
   "cell_type": "code",
   "execution_count": 4,
   "metadata": {},
   "outputs": [],
   "source": [
    "#Lista das páginas com os produtos. Por questões de segurança jurídica e privacidade, o nome original do site foi substituído.\n",
    "lista_paginas = [(f'https://SITE/calcados-roupas-bolsas/roupas_Desde_{index}_NoIndex_True') for index in range_index]"
   ]
  },
  {
   "cell_type": "code",
   "execution_count": 5,
   "metadata": {},
   "outputs": [],
   "source": [
    "#Headers para fazer as requisições e o soup das páginas\n",
    "headers = {\"User-Agent\": \"Mozilla/5.0 (Windows NT 10.0; Win64; x64) AppleWebKit/537.36 (KHTML, like Gecko) Chrome/116.0.0.0 Safari/537.36 Edg/116.0.1938.76\",\n",
    "           \"Accept-Language\": \"pt-BR,pt;q=0.9,en;q=0.8,en-GB;q=0.7,en-US;q=0.6,ja;q=0.5,es;q=0.4\"}"
   ]
  },
  {
   "cell_type": "code",
   "execution_count": 7,
   "metadata": {},
   "outputs": [
    {
     "name": "stdout",
     "output_type": "stream",
     "text": [
      "Número de links: 54\n",
      "Número de links: 108\n",
      "Número de links: 162\n",
      "Número de links: 216\n",
      "Número de links: 270\n",
      "Número de links: 324\n",
      "Número de links: 378\n",
      "Número de links: 432\n",
      "Número de links: 486\n",
      "Número de links: 540\n",
      "Número de links: 594\n",
      "Número de links: 648\n",
      "Número de links: 702\n",
      "Número de links: 756\n",
      "Número de links: 810\n",
      "Número de links: 864\n",
      "Número de links: 918\n",
      "Número de links: 972\n",
      "Número de links: 1026\n",
      "Número de links: 1080\n",
      "Número de links: 1134\n",
      "Número de links: 1188\n",
      "Número de links: 1242\n",
      "Número de links: 1296\n",
      "Número de links: 1350\n",
      "Número de links: 1404\n",
      "Número de links: 1458\n",
      "Número de links: 1512\n",
      "Número de links: 1566\n",
      "Número de links: 1620\n",
      "Número de links: 1668\n",
      "Número de links: 1722\n",
      "Número de links: 1776\n",
      "Número de links: 1830\n",
      "Número de links: 1884\n",
      "Número de links: 1938\n",
      "Número de links: 1992\n",
      "Número de links: 2046\n",
      "Número de links: 2100\n",
      "Número de links: 2154\n",
      "Número de links: 2208\n",
      "Número de links: 2208\n"
     ]
    }
   ],
   "source": [
    "#Realizando o request e o soup de cada página a partir da lista de URLs. Em cada página o código passa por cada item do catálogo e copia o link do item para uma lista\n",
    "links_roupas = []\n",
    "\n",
    "for url in lista_paginas:\n",
    "    page = requests.get(url)\n",
    "    soup = BeautifulSoup(page.content, 'html.parser')\n",
    "\n",
    "    for item in soup.find_all(class_='ui-search-item__group__element shops__items-group-details ui-search-link'):\n",
    "        links_roupas.append(item.get('href'))\n",
    "    \n",
    "    print(f'Número de links: {len(links_roupas)}')"
   ]
  },
  {
   "cell_type": "markdown",
   "metadata": {},
   "source": [
    "## 2. Realizando o scrapping nas páginas"
   ]
  },
  {
   "cell_type": "code",
   "execution_count": 8,
   "metadata": {},
   "outputs": [],
   "source": [
    "#As colunas definidas se referem aos nomes das colunas no dataframe que será construído. A lista de texto contém os textos exatos cque são encontrados no site e é utilizada\n",
    "#Para dar suporte a uma das funções de scrapping. Os elementos básicos listados serão utilizados na função que realiza o scrapping a partir desses mesmos elementos\n",
    "\n",
    "colunas = ['Título', 'Reais', 'Centavos', 'Condição', 'Nota', 'N_Avaliações', 'Desconto', 'Marca', 'Material', 'Gênero', 'Temporada', 'Review1', 'Review2', 'Review3']\n",
    "lista_de_textos = ['Marca:', 'Material principal:', 'Gênero:', 'Temporada de lançamento:']\n",
    "elementos_basicos = [{'name':'h1', 'class':'ui-pdp-title'}, {'name':'span', 'class':'andes-money-amount__fraction'}, {'name':'span', 'class':'andes-money-amount__cents andes-money-amount__cents--superscript-36'},\n",
    "                     {'name':'span', 'class':'ui-pdp-subtitle'}, {'name':'span', 'class':'ui-pdp-review__rating'}, {'name':'span', 'class':'ui-pdp-review__amount'},\n",
    "                     {'name':'span', 'class':'andes-money-amount__discount'}]"
   ]
  },
  {
   "cell_type": "code",
   "execution_count": null,
   "metadata": {},
   "outputs": [],
   "source": [
    "#Percorre cada link de roupa e realiza as três funções de scrapping definidas anteriormente para criar 3 listas diferentes. As 3 listas são unidas e adicionadas em um lista de\n",
    "#listas que será transformada em dataframe.\n",
    "lista = []\n",
    "\n",
    "for link in links_roupas:\n",
    "    page = driver.get(link)\n",
    "    cod_page = driver.page_source\n",
    "    soup = BeautifulSoup(cod_page, 'html.parser')\n",
    "    lista_basicos = insere_dados_basicos(elementos_basicos, soup)\n",
    "    lista_caracteristica = insere_elementos_tabela(lista_de_textos, soup)\n",
    "    lista_reviews = insere_reviews('p', 'ui-review-capability-comments__comment__content', soup)\n",
    "    lista.append(lista_basicos + lista_caracteristica + lista_reviews)\n",
    "    print(f'n obs: {len(lista)}')\n",
    "    time.sleep(15) #Tempo para ficar em cada página e evitar o bloqueio de reuisição"
   ]
  },
  {
   "cell_type": "code",
   "execution_count": 12,
   "metadata": {},
   "outputs": [],
   "source": [
    "#Transforma a lista de listas em um dataframe. Cada lista dentro da lista principal é uma linha, as colunas foram definidas anteriormente.\n",
    "df = pd.DataFrame(lista, columns=colunas)"
   ]
  },
  {
   "cell_type": "code",
   "execution_count": null,
   "metadata": {},
   "outputs": [],
   "source": [
    "#Salva o dataframe em um arquivo .csv\n",
    "df.to_csv('scrapping_roupas_marketplace.csv')"
   ]
  }
 ],
 "metadata": {
  "kernelspec": {
   "display_name": "Python 3",
   "language": "python",
   "name": "python3"
  },
  "language_info": {
   "codemirror_mode": {
    "name": "ipython",
    "version": 3
   },
   "file_extension": ".py",
   "mimetype": "text/x-python",
   "name": "python",
   "nbconvert_exporter": "python",
   "pygments_lexer": "ipython3",
   "version": "3.10.11"
  },
  "orig_nbformat": 4
 },
 "nbformat": 4,
 "nbformat_minor": 2
}
